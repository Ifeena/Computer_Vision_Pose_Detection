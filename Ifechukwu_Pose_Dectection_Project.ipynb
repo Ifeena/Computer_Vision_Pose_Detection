{
 "cells": [
  {
   "cell_type": "code",
   "execution_count": 1,
   "id": "fae95d35",
   "metadata": {},
   "outputs": [],
   "source": [
    "# !pip install mediapipe"
   ]
  },
  {
   "cell_type": "code",
   "execution_count": 21,
   "id": "f5211295",
   "metadata": {},
   "outputs": [],
   "source": [
    "# Import necessary libraries\n",
    "\n",
    "import cv2\n",
    "import mediapipe as mp"
   ]
  },
  {
   "cell_type": "code",
   "execution_count": 22,
   "id": "2c910c85",
   "metadata": {},
   "outputs": [],
   "source": [
    "# Identify Webcam\n",
    "\n",
    "cap = cv2.VideoCapture(0)"
   ]
  },
  {
   "cell_type": "code",
   "execution_count": 23,
   "id": "335cf189",
   "metadata": {},
   "outputs": [],
   "source": [
    "# Leveraging the Mediapipe Library used for pose detection\n",
    "\n",
    "mpPose = mp.solutions.pose\n",
    "pose = mpPose.Pose()\n",
    "# pose = mpPose.Pose(static_image = False, upper_body_only = False, smooth_landmarks = True, min_detection_confidence = 0.5,\n",
    "# min_tracking_confidence = 0.5) \n",
    "\n",
    "# To draw and connect the landmarks\n",
    "mpDraw = mp.solutions.drawing_utils"
   ]
  },
  {
   "cell_type": "code",
   "execution_count": 24,
   "id": "f9a167d6",
   "metadata": {},
   "outputs": [],
   "source": [
    "# Check that webcam is on and to display the pose detection\n",
    "\n",
    "while True:\n",
    "    _, img = cap.read()\n",
    "    \n",
    "    # Convert video/image from BGR to RGB\n",
    "    imgRGB = cv2.cvtColor(img, cv2.COLOR_BGR2RGB)\n",
    "    \n",
    "    # Apply Mediapipe pose detection model for detection\n",
    "    results = pose.process(imgRGB)\n",
    "    # print(results.multi_pose_landmarks)\n",
    "    \n",
    "    # Draw landmarks\n",
    "    if results.pose_landmarks:\n",
    "        mpDraw.draw_landmarks(img, results.pose_landmarks, mpPose.POSE_CONNECTIONS)\n",
    "    \n",
    "    \n",
    "    cv2.putText(img, 'KuljoeFin Pose Detection Program', (10, 50), cv2.FONT_HERSHEY_PLAIN, 2, (255, 255, 255), 2)\n",
    "    cv2.imshow('10Alytics Pose Detection', img)\n",
    "    if cv2.waitKey(1) & 0xFF == ord('p'):\n",
    "        break\n",
    "\n",
    "# Release capture after all processes are completed.\n",
    "cap.release()\n",
    "cv2.destroyAllWindows()"
   ]
  },
  {
   "cell_type": "code",
   "execution_count": null,
   "id": "42675380",
   "metadata": {},
   "outputs": [],
   "source": []
  }
 ],
 "metadata": {
  "kernelspec": {
   "display_name": "Python 3 (ipykernel)",
   "language": "python",
   "name": "python3"
  },
  "language_info": {
   "codemirror_mode": {
    "name": "ipython",
    "version": 3
   },
   "file_extension": ".py",
   "mimetype": "text/x-python",
   "name": "python",
   "nbconvert_exporter": "python",
   "pygments_lexer": "ipython3",
   "version": "3.11.5"
  }
 },
 "nbformat": 4,
 "nbformat_minor": 5
}
